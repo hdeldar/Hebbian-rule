{
  "nbformat": 4,
  "nbformat_minor": 0,
  "metadata": {
    "colab": {
      "provenance": []
    },
    "kernelspec": {
      "name": "python3",
      "display_name": "Python 3"
    },
    "language_info": {
      "name": "python"
    }
  },
  "cells": [
    {
      "cell_type": "markdown",
      "source": [
        "<a href=\"https://colab.research.google.com/github/hdeldar/Hebbian-rule/blob/main/Hebbian_rule.ipynb\" target=\"_parent\"><img src=\"https://colab.research.google.com/assets/colab-badge.svg\" alt=\"Open In Colab\"/></a>\n"
      ],
      "metadata": {
        "id": "4PXIdMe-DR94"
      }
    },
    {
      "cell_type": "markdown",
      "source": [
        "# Hebbian Learning Rule\n",
        "- Also known as 'Hebb Learning Rule', was proposed by 'Donald O Hebb'.\n",
        "- One of the 'first' and also easiest learning rules in the neural network.\n",
        "- It is a single layer neural network, i.e. it has one input layer and one output layer.\n",
        "- The input layer can have many units, say n. The output layer only has one unit.\n",
        "- Hebbian rule works by updating the weights between neurons in the neural network for each training sample.\n",
        "\n",
        "## Hebbian Learning Rule Algorithm\n",
        "\n",
        "- Set all weights to zero, `wi = 0` for `i=1 to n`, and `bias to zero`.\n",
        "- For each `input vector`, `S(input vector)` : `t(target output pair)`, repeat steps 3-5.\n",
        "- Set activations for input units with the input vector `Xi = Si` for `i = 1 to n`.\n",
        "- Set the corresponding output value to the output neuron, i.e. `y = t`.\n",
        "- Update weight and bias by applying Hebb rule for all `i = 1 to n`:\n",
        "\n",
        "![image](https://github.com/Siddhipatade/Hebbian-rule/assets/91780318/499a6d53-cea5-4048-84b4-708d81e1a567)\n",
        "\n",
        "### Implementing AND gate using Hebb Rule\n",
        "\n",
        "![image](https://github.com/Siddhipatade/Hebbian-rule/assets/91780318/7653fc5a-ae1e-4223-8f68-068f4c1dd527)\n",
        "\n",
        "- There are 4 training samples, so there will be 4 iterations. Also, the activation function used here is Bipolar Sigmoidal Function so the range is [-1,1].\n",
        "- Step 1 :\n",
        "\tSet weight and bias to zero, w = [ 0 0 0 ]T  and b = 0.\n",
        "- Step 2 :\n",
        " Set input vector Xi = Si  for i = 1 to 4.\n",
        "\tX1 = [ -1 -1 1 ]T\n",
        "\tX2 = [ -1 1 1 ]T\n",
        "\tX3 = [ 1 -1 1 ]T\n",
        "\tX4 = [ 1 1 1 ]T\n",
        "- Step 3 :\n",
        "\tOutput value is set to y = t.\n",
        "\n",
        "- Step 4 :\n",
        "\tModifying weights using Hebbian Rule:\n",
        "\n",
        " First iteration –\n",
        "\tw(new) = w(old) + x1y1 = [ 0 0 0 ]T + [ -1 -1 1 ]T . [ -1 ] =   [ 1 1 -1 ]T\n",
        "\n",
        "For the second iteration, the final weight of the first one will be used and so on.\n",
        "\n",
        " Second iteration –\n",
        "\n",
        " w(new) = [ 1 1 -1 ]T + [ -1 1 1 ]T . [ -1 ] = [ 2 0 -2 ]T\n",
        "\n",
        " Third iteration –\n",
        "\n",
        " w(new) = [ 2 0 -2]T + [ 1 -1 1 ]T . [ -1 ] = [ 1 1 -3 ]T\n",
        "\n",
        " Fourth iteration –\n",
        "\n",
        " w(new) = [ 1 1 -3]T + [ 1 1 1 ]T . [ 1 ] = [ 2 2 -2 ]T\n",
        "\n",
        " So, the final weight matrix is [ 2 2 -2 ]T\n",
        "\n",
        "![image](https://github.com/Siddhipatade/Hebbian-rule/assets/91780318/20c3fb04-4126-4a38-a609-167ad054a7f8)\n",
        "\n",
        "#### `Decision Boundary` :\n",
        "\n",
        "\t2x1 + 2x2 – 2b = y\n",
        "\tReplacing y with 0,      2x1 + 2x2 – 2b = 0\n",
        "\tSince bias, b = 1, so    2x1 + 2x2 – 2(1) = 0\n",
        "\t2( x1 + x2 ) = 2\n",
        "\tThe final equation,        x2 = -x1 + 1\n",
        "\n",
        "![image](https://github.com/Siddhipatade/Hebbian-rule/assets/91780318/ea45f965-1091-4ced-bf6d-f5db411a2eb1)\n"
      ],
      "metadata": {
        "id": "Kz2eHlWYl9cp"
      }
    },
    {
      "cell_type": "code",
      "execution_count": 1,
      "metadata": {
        "id": "7eFar6qOkmXH"
      },
      "outputs": [],
      "source": [
        "import numpy as np\n",
        "import pandas as pd"
      ]
    },
    {
      "cell_type": "markdown",
      "source": [
        "## Implementing AND gate using Hebb Rule:"
      ],
      "metadata": {
        "id": "ERRQ6eQH3hFw"
      }
    },
    {
      "cell_type": "code",
      "source": [
        "w=np.array([0, 0, 0])# [w1, w2, last one is bais]\n",
        "X=[np.array([-1, -1, 1]),\n",
        "   np.array([-1,  1, 1]),\n",
        "   np.array([ 1, -1, 1]),\n",
        "   np.array([ 1,  1, 1])]\n",
        "T=np.array([-1, -1, -1, 1])\n",
        "\n",
        "print(w)\n",
        "print (X)\n",
        "print (T)\n",
        "print(len(X))"
      ],
      "metadata": {
        "colab": {
          "base_uri": "https://localhost:8080/"
        },
        "id": "i45PtoTmoEmf",
        "outputId": "d5476f14-c65a-4733-d9d1-db1465477c92"
      },
      "execution_count": 79,
      "outputs": [
        {
          "output_type": "stream",
          "name": "stdout",
          "text": [
            "[0 0 0]\n",
            "[array([-1, -1,  1]), array([-1,  1,  1]), array([ 1, -1,  1]), array([1, 1, 1])]\n",
            "[-1 -1 -1  1]\n",
            "4\n"
          ]
        }
      ]
    },
    {
      "cell_type": "code",
      "source": [
        "for i in range(len(X)):\n",
        "  print('w=',w)\n",
        "  print('Ti=',T[i])\n",
        "  print('Xi=',X[i])\n",
        "  print(w + X[i]*T[i])\n",
        "  w=w + X[i]*T[i]\n",
        "  print('weight vector for this iteration:',w)"
      ],
      "metadata": {
        "colab": {
          "base_uri": "https://localhost:8080/"
        },
        "id": "lYxFuOPdpJw8",
        "outputId": "e0efbcf2-8e63-4596-e5f4-8784d6bb007e"
      },
      "execution_count": 80,
      "outputs": [
        {
          "output_type": "stream",
          "name": "stdout",
          "text": [
            "w= [0 0 0]\n",
            "Ti= -1\n",
            "Xi= [-1 -1  1]\n",
            "[ 1  1 -1]\n",
            "weight vector for this iteration: [ 1  1 -1]\n",
            "w= [ 1  1 -1]\n",
            "Ti= -1\n",
            "Xi= [-1  1  1]\n",
            "[ 2  0 -2]\n",
            "weight vector for this iteration: [ 2  0 -2]\n",
            "w= [ 2  0 -2]\n",
            "Ti= -1\n",
            "Xi= [ 1 -1  1]\n",
            "[ 1  1 -3]\n",
            "weight vector for this iteration: [ 1  1 -3]\n",
            "w= [ 1  1 -3]\n",
            "Ti= 1\n",
            "Xi= [1 1 1]\n",
            "[ 2  2 -2]\n",
            "weight vector for this iteration: [ 2  2 -2]\n"
          ]
        }
      ]
    },
    {
      "cell_type": "code",
      "source": [
        "print('y=({})X1+({})X2+({})b'.format( w[0], w[1], w[2]))\n",
        "for i in range(len(X)):\n",
        "  print('X1={}, X2={}, b={}  => y= {} '.format( X[i][0], X[i][1], X[i][2], w[0] * X[i][0] +  w[1] * X[i][1] +  w[2] * X[i][2]))"
      ],
      "metadata": {
        "colab": {
          "base_uri": "https://localhost:8080/"
        },
        "id": "WqlE5etC3n19",
        "outputId": "58e24d80-4894-4c1b-ce49-26b919c5de96"
      },
      "execution_count": 81,
      "outputs": [
        {
          "output_type": "stream",
          "name": "stdout",
          "text": [
            "y=(2)X1+(2)X2+(-2)b\n",
            "X1=-1, X2=-1, b=1  => y= -6 \n",
            "X1=-1, X2=1, b=1  => y= -2 \n",
            "X1=1, X2=-1, b=1  => y= -2 \n",
            "X1=1, X2=1, b=1  => y= 2 \n"
          ]
        }
      ]
    },
    {
      "cell_type": "code",
      "source": [
        "import numpy as np\n",
        "import matplotlib.pyplot as plt\n",
        "\n",
        "def f(x1):\n",
        "    return (-1 * (w[0] * x1 +  w[2] * X[i][2])) / w[1]\n",
        "\n",
        "x1 = np.arange(-3, 3, 1)\n",
        "\n",
        "plt.plot(x1, f(x1))\n",
        "\n",
        "plt.grid()\n",
        "plt.show()"
      ],
      "metadata": {
        "colab": {
          "base_uri": "https://localhost:8080/",
          "height": 430
        },
        "id": "jZBdwladzRCb",
        "outputId": "c86b7bec-3600-4e67-a953-56ba6106c63c"
      },
      "execution_count": 82,
      "outputs": [
        {
          "output_type": "display_data",
          "data": {
            "text/plain": [
              "<Figure size 640x480 with 1 Axes>"
            ],
            "image/png": "[encoded data removed]"
          },
          "metadata": {}
        }
      ]
    },
    {
      "cell_type": "markdown",
      "source": [
        "## Implementing OR gate using Hebb Rule:"
      ],
      "metadata": {
        "id": "3SDDCVE23XYX"
      }
    },
    {
      "cell_type": "code",
      "source": [
        "w=np.array([0, 0, 0])# [w1, w2, last one is bais]\n",
        "X=[np.array([-1, -1, 1]),\n",
        "   np.array([-1,  1, 1]),\n",
        "   np.array([ 1, -1, 1]),\n",
        "   np.array([ 1,  1, 1])]\n",
        "T=np.array([-1, 1, 1, 1])\n",
        "\n",
        "print(w)\n",
        "print (X)\n",
        "print (T)\n",
        "print(len(X))"
      ],
      "metadata": {
        "colab": {
          "base_uri": "https://localhost:8080/"
        },
        "id": "lB7GvyaU3W-o",
        "outputId": "9f415d37-7851-48aa-87a7-5bb1b140a70d"
      },
      "execution_count": 71,
      "outputs": [
        {
          "output_type": "stream",
          "name": "stdout",
          "text": [
            "[0 0 0]\n",
            "[array([-1, -1,  1]), array([-1,  1,  1]), array([ 1, -1,  1]), array([1, 1, 1])]\n",
            "[-1  1  1  1]\n",
            "4\n"
          ]
        }
      ]
    }
  ]
}