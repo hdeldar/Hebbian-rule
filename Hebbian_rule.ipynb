{
  "nbformat": 4,
  "nbformat_minor": 0,
  "metadata": {
    "colab": {
      "provenance": []
    },
    "kernelspec": {
      "name": "python3",
      "display_name": "Python 3"
    },
    "language_info": {
      "name": "python"
    }
  },
  "cells": [
    {
      "cell_type": "markdown",
      "source": [
        "<a href=\"https://colab.research.google.com/github/hdeldar/Hebbian-rule/blob/main/Hebbian_rule.ipynb\" target=\"_parent\"><img src=\"https://colab.research.google.com/assets/colab-badge.svg\" alt=\"Open In Colab\"/></a>\n"
      ],
      "metadata": {
        "id": "4PXIdMe-DR94"
      }
    },
    {
      "cell_type": "markdown",
      "source": [
        "# About\n",
        "Professor: Jafar Pouramini\n",
        "\n",
        "Student: Hassan Deldar\n",
        "\n",
        "Lesson: Neural Networks ( Hebbian Learning Rule )\n",
        "\n",
        "# Hebbian Learning Rule\n",
        "\n",
        "- Also known as 'Hebb Learning Rule', was proposed by 'Donald O Hebb'.\n",
        "- One of the 'first' and also easiest learning rules in the neural network.\n",
        "- It is a single layer neural network, i.e. it has one input layer and one output layer.\n",
        "- The input layer can have many units, say n. The output layer only has one unit.\n",
        "- Hebbian rule works by updating the weights between neurons in the neural network for each training sample.\n",
        "\n",
        "## Hebbian Learning Rule Algorithm\n",
        "\n",
        "- Set all weights to zero, `wi = 0` for `i=1 to n`, and `bias to zero`.\n",
        "- For each `input vector`, `S(input vector)` : `t(target output pair)`, repeat steps 3-5.\n",
        "- Set activations for input units with the input vector `Xi = Si` for `i = 1 to n`.\n",
        "- Set the corresponding output value to the output neuron, i.e. `y = t`.\n",
        "- Update weight and bias by applying Hebb rule for all `i = 1 to n`:\n",
        "\n",
        "![image](https://github.com/Siddhipatade/Hebbian-rule/assets/91780318/499a6d53-cea5-4048-84b4-708d81e1a567)\n",
        "\n",
        "### Implementing AND gate using Hebb Rule\n",
        "\n",
        "![image](https://github.com/Siddhipatade/Hebbian-rule/assets/91780318/7653fc5a-ae1e-4223-8f68-068f4c1dd527)\n",
        "\n",
        "- There are 4 training samples, so there will be 4 iterations. Also, the activation function used here is Bipolar Sigmoidal Function so the range is [-1,1].\n",
        "- Step 1 :\n",
        "\tSet weight and bias to zero, w = [ 0 0 0 ]T  and b = 0.\n",
        "- Step 2 :\n",
        " Set input vector Xi = Si  for i = 1 to 4.\n",
        "\tX1 = [ -1 -1 1 ]T\n",
        "\tX2 = [ -1 1 1 ]T\n",
        "\tX3 = [ 1 -1 1 ]T\n",
        "\tX4 = [ 1 1 1 ]T\n",
        "- Step 3 :\n",
        "\tOutput value is set to y = t.\n",
        "\n",
        "- Step 4 :\n",
        "\tModifying weights using Hebbian Rule:\n",
        "\n",
        " First iteration –\n",
        "\tw(new) = w(old) + x1y1 = [ 0 0 0 ]T + [ -1 -1 1 ]T . [ -1 ] =   [ 1 1 -1 ]T\n",
        "\n",
        "For the second iteration, the final weight of the first one will be used and so on.\n",
        "\n",
        " Second iteration –\n",
        "\n",
        " w(new) = [ 1 1 -1 ]T + [ -1 1 1 ]T . [ -1 ] = [ 2 0 -2 ]T\n",
        "\n",
        " Third iteration –\n",
        "\n",
        " w(new) = [ 2 0 -2]T + [ 1 -1 1 ]T . [ -1 ] = [ 1 1 -3 ]T\n",
        "\n",
        " Fourth iteration –\n",
        "\n",
        " w(new) = [ 1 1 -3]T + [ 1 1 1 ]T . [ 1 ] = [ 2 2 -2 ]T\n",
        "\n",
        " So, the final weight matrix is [ 2 2 -2 ]T\n",
        "\n",
        "![image](https://github.com/Siddhipatade/Hebbian-rule/assets/91780318/20c3fb04-4126-4a38-a609-167ad054a7f8)\n",
        "\n",
        "#### `Decision Boundary` :\n",
        "\n",
        "\t2x1 + 2x2 – 2b = y\n",
        "\tReplacing y with 0,      2x1 + 2x2 – 2b = 0\n",
        "\tSince bias, b = 1, so    2x1 + 2x2 – 2(1) = 0\n",
        "\t2( x1 + x2 ) = 2\n",
        "\tThe final equation,        x2 = -x1 + 1\n",
        "\n",
        "![image](https://github.com/Siddhipatade/Hebbian-rule/assets/91780318/ea45f965-1091-4ced-bf6d-f5db411a2eb1)\n"
      ],
      "metadata": {
        "id": "Kz2eHlWYl9cp"
      }
    },
    {
      "cell_type": "code",
      "execution_count": null,
      "metadata": {
        "id": "7eFar6qOkmXH"
      },
      "outputs": [],
      "source": [
        "import numpy as np\n",
        "import pandas as pd"
      ]
    },
    {
      "cell_type": "code",
      "source": [
        "def hebb_rule(X,W,T):\n",
        "  for i in range(len(X)):\n",
        "    print('w=',W)\n",
        "    print('Ti=',T[i])\n",
        "    print('Xi=',X[i])\n",
        "    print(W + X[i]*T[i])\n",
        "    W=W + X[i]*T[i]\n",
        "    print('weight vector for this iteration:',W)\n",
        "  return W"
      ],
      "metadata": {
        "id": "keLZYbnQfYSY"
      },
      "execution_count": null,
      "outputs": []
    },
    {
      "cell_type": "code",
      "source": [
        "def test_hebb_rule(X, WB):\n",
        "  print('y=({})X1+({})X2+({})b'.format( WB[0], WB[1], WB[2]))\n",
        "  for i in range(len(X)):\n",
        "    print('X1={}, X2={}, b={}  => y= {} '.format( X[i][0], X[i][1], X[i][2], WB[0] * X[i][0] +  WB[1] * X[i][1] +  WB[2] * X[i][2]))"
      ],
      "metadata": {
        "id": "YRJvu3YDiG7G"
      },
      "execution_count": null,
      "outputs": []
    },
    {
      "cell_type": "code",
      "source": [
        "import numpy as np\n",
        "import matplotlib.pyplot as plt\n",
        "\n",
        "def pfunc(Xi,WB):\n",
        "   return -1 * (WB[0] * Xi +  WB[2]) / WB[1]\n",
        "\n",
        "def plot_hebb_rule(X,WB, T):\n",
        "  Xi = np.arange(-3, 3, 0.1)\n",
        "  if WB[1] != 0:\n",
        "    plt.plot(Xi, pfunc(Xi,WB))\n",
        "  else:\n",
        "    print('Can not plot hebbian rule line...')\n",
        "  for i in range(len(X)):\n",
        "    if T[i] > 0 :\n",
        "      plt.plot(X[i][0], X[i][1], 'o', color='black')\n",
        "    else:\n",
        "      plt.plot(X[i][0], X[i][1], 'x', color='red')\n",
        "  plt.grid()\n",
        "  plt.plot(Xi,0*Xi, 'k')\n",
        "  plt.plot(Xi*0,Xi, 'k')\n",
        "  plt.plot(Xi*0,-Xi, 'k')\n",
        "  plt.show()"
      ],
      "metadata": {
        "id": "jen4PpBpjwV6"
      },
      "execution_count": null,
      "outputs": []
    },
    {
      "cell_type": "markdown",
      "source": [
        "## Implementing AND gate using Hebb Rule:"
      ],
      "metadata": {
        "id": "ERRQ6eQH3hFw"
      }
    },
    {
      "cell_type": "code",
      "source": [
        "w=np.array([0, 0, 0])# [w1, w2, last one is bais]\n",
        "x=[np.array([-1, -1, 1]),\n",
        "   np.array([-1,  1, 1]),\n",
        "   np.array([ 1, -1, 1]),\n",
        "   np.array([ 1,  1, 1])]\n",
        "t=np.array([-1, -1, -1, 1])\n",
        "\n",
        "print(w)\n",
        "print (x)\n",
        "print (t)\n",
        "print(len(x))\n",
        "\n",
        "wb = hebb_rule(x,w,t)\n",
        "print(wb)\n",
        "test_hebb_rule(x,wb)\n",
        "plot_hebb_rule(x, wb, t)"
      ],
      "metadata": {
        "colab": {
          "base_uri": "https://localhost:8080/",
          "height": 951
        },
        "id": "i45PtoTmoEmf",
        "outputId": "ed0f514d-a7ee-4f22-a2ae-590691b6938e"
      },
      "execution_count": null,
      "outputs": [
        {
          "output_type": "stream",
          "name": "stdout",
          "text": [
            "[0 0 0]\n",
            "[array([-1, -1,  1]), array([-1,  1,  1]), array([ 1, -1,  1]), array([1, 1, 1])]\n",
            "[-1 -1 -1  1]\n",
            "4\n",
            "w= [0 0 0]\n",
            "Ti= -1\n",
            "Xi= [-1 -1  1]\n",
            "[ 1  1 -1]\n",
            "weight vector for this iteration: [ 1  1 -1]\n",
            "w= [ 1  1 -1]\n",
            "Ti= -1\n",
            "Xi= [-1  1  1]\n",
            "[ 2  0 -2]\n",
            "weight vector for this iteration: [ 2  0 -2]\n",
            "w= [ 2  0 -2]\n",
            "Ti= -1\n",
            "Xi= [ 1 -1  1]\n",
            "[ 1  1 -3]\n",
            "weight vector for this iteration: [ 1  1 -3]\n",
            "w= [ 1  1 -3]\n",
            "Ti= 1\n",
            "Xi= [1 1 1]\n",
            "[ 2  2 -2]\n",
            "weight vector for this iteration: [ 2  2 -2]\n",
            "[ 2  2 -2]\n",
            "y=(2)X1+(2)X2+(-2)b\n",
            "X1=-1, X2=-1, b=1  => y= -6 \n",
            "X1=-1, X2=1, b=1  => y= -2 \n",
            "X1=1, X2=-1, b=1  => y= -2 \n",
            "X1=1, X2=1, b=1  => y= 2 \n"
          ]
        },
        {
          "output_type": "display_data",
          "data": {
            "text/plain": [
              "<Figure size 640x480 with 1 Axes>"
            ],
            "image/png": "[encoded data removed]"
          },
          "metadata": {}
        }
      ]
    },
    {
      "cell_type": "markdown",
      "source": [
        "## Implementing OR gate using Hebb Rule:"
      ],
      "metadata": {
        "id": "3SDDCVE23XYX"
        }
    },
    {
      "cell_type": "code",
      "source": [
        "w=np.array([0, 0, 0])# [w1, w2, last one is bais]\n",
        "x=[np.array([-1, -1, 1]),\n",
        "   np.array([-1,  1, 1]),\n",
        "   np.array([ 1, -1, 1]),\n",
        "   np.array([ 1,  1, 1])]\n",
        "t=np.array([-1, 1, 1, 1])\n",
        "\n",
        "print(w)\n",
        "print (x)\n",
        "print (t)\n",
        "print(len(x))\n",
        "wb = hebb_rule(x,w,t)\n",
        "print(wb)\n",
        "test_hebb_rule(x,wb)\n",
        "plot_hebb_rule(x, wb, t)"
      ],
      "metadata": {
        "colab": {
          "base_uri": "https://localhost:8080/",
          "height": 951
        },
        "id": "lB7GvyaU3W-o",
        "outputId": "8735564a-768e-4c55-e447-9f3d1807f5aa"
      },
      "execution_count": null,
      "outputs": [
        {
          "output_type": "stream",
          "name": "stdout",
          "text": [
            "[0 0 0]\n",
            "[array([-1, -1,  1]), array([-1,  1,  1]), array([ 1, -1,  1]), array([1, 1, 1])]\n",
            "[-1  1  1  1]\n",
            "4\n",
            "w= [0 0 0]\n",
            "Ti= -1\n",
            "Xi= [-1 -1  1]\n",
            "[ 1  1 -1]\n",
            "weight vector for this iteration: [ 1  1 -1]\n",
            "w= [ 1  1 -1]\n",
            "Ti= 1\n",
            "Xi= [-1  1  1]\n",
            "[0 2 0]\n",
            "weight vector for this iteration: [0 2 0]\n",
            "w= [0 2 0]\n",
            "Ti= 1\n",
            "Xi= [ 1 -1  1]\n",
            "[1 1 1]\n",
            "weight vector for this iteration: [1 1 1]\n",
            "w= [1 1 1]\n",
            "Ti= 1\n",
            "Xi= [1 1 1]\n",
            "[2 2 2]\n",
            "weight vector for this iteration: [2 2 2]\n",
            "[2 2 2]\n",
            "y=(2)X1+(2)X2+(2)b\n",
            "X1=-1, X2=-1, b=1  => y= -2 \n",
            "X1=-1, X2=1, b=1  => y= 2 \n",
            "X1=1, X2=-1, b=1  => y= 2 \n",
            "X1=1, X2=1, b=1  => y= 6 \n"
          ]
        },
        {
          "output_type": "display_data",
          "data": {
            "text/plain": [
              "<Figure size 640x480 with 1 Axes>"
            ],
            "image/png": "[encoded data removed]"
          },
          "metadata": {}
        }
      ]
    },
    {
      "cell_type": "markdown",
      "source": [
        "## Implementing XOR gate using Hebb Rule:"
      ],
      "metadata": {
        "id": "ZImFTtq2xH38"
      }
    },
    {
      "cell_type": "code",
      "source": [
        "w=np.array([0, 0, 0])# [w1, w2, last one is bais]\n",
        "x=[np.array([-1, -1, 1]),\n",
        "   np.array([-1,  1, 1]),\n",
        "   np.array([ 1, -1, 1]),\n",
        "   np.array([ 1,  1, 1])]\n",
        "t=np.array([-1, 1, 1, -1])\n",
        "\n",
        "print(w)\n",
        "print (x)\n",
        "print (t)\n",
        "print(len(x))\n",
        "wb = hebb_rule(x,w,t)\n",
        "print(wb)\n",
        "test_hebb_rule(x,wb)\n",
        "plot_hebb_rule(x, wb, t)"
      ],
      "metadata": {
        "colab": {
          "base_uri": "https://localhost:8080/",
          "height": 968
        },
        "id": "TKIbqZXuxHbr",
        "outputId": "4eb51b0d-5258-44cf-ea4d-38a87a77a44a"
      },
      "execution_count": null,
      "outputs": [
        {
          "output_type": "stream",
          "name": "stdout",
          "text": [
            "[0 0 0]\n",
            "[array([-1, -1,  1]), array([-1,  1,  1]), array([ 1, -1,  1]), array([1, 1, 1])]\n",
            "[-1  1  1 -1]\n",
            "4\n",
            "w= [0 0 0]\n",
            "Ti= -1\n",
            "Xi= [-1 -1  1]\n",
            "[ 1  1 -1]\n",
            "weight vector for this iteration: [ 1  1 -1]\n",
            "w= [ 1  1 -1]\n",
            "Ti= 1\n",
            "Xi= [-1  1  1]\n",
            "[0 2 0]\n",
            "weight vector for this iteration: [0 2 0]\n",
            "w= [0 2 0]\n",
            "Ti= 1\n",
            "Xi= [ 1 -1  1]\n",
            "[1 1 1]\n",
            "weight vector for this iteration: [1 1 1]\n",
            "w= [1 1 1]\n",
            "Ti= -1\n",
            "Xi= [1 1 1]\n",
            "[0 0 0]\n",
            "weight vector for this iteration: [0 0 0]\n",
            "[0 0 0]\n",
            "y=(0)X1+(0)X2+(0)b\n",
            "X1=-1, X2=-1, b=1  => y= 0 \n",
            "X1=-1, X2=1, b=1  => y= 0 \n",
            "X1=1, X2=-1, b=1  => y= 0 \n",
            "X1=1, X2=1, b=1  => y= 0 \n",
            "Can not plot hebbian rule line...\n"
          ]
        },
        {
          "output_type": "display_data",
          "data": {
            "text/plain": [
              "<Figure size 640x480 with 1 Axes>"
            ],
            "image/png": "[encoded data removed]"
          },
          "metadata": {}
        }
      ]
    }
  ]
}